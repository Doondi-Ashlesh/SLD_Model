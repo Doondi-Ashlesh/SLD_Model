{
 "cells": [
  {
   "cell_type": "code",
   "execution_count": 2,
   "metadata": {},
   "outputs": [],
   "source": [
    "import os\n",
    "import shutil\n",
    "from sklearn.model_selection import train_test_split"
   ]
  },
  {
   "cell_type": "code",
   "execution_count": 7,
   "metadata": {},
   "outputs": [],
   "source": [
    "#Paths to the folders\n",
    "#Change the paths of folders according to their location in your PC\n",
    "dataset_path='C:\\\\Users\\\\THUNDER\\\\Desktop\\\\Projects\\\\SLD\\\\dataset'\n",
    "train_path='C:\\\\Users\\\\THUNDER\\\\Desktop\\\\Projects\\\\SLD\\\\train'\n",
    "test_path='C:\\\\Users\\\\THUNDER\\\\Desktop\\\\Projects\\\\SLD\\\\test'"
   ]
  },
  {
   "cell_type": "code",
   "execution_count": 8,
   "metadata": {},
   "outputs": [],
   "source": [
    "#Making directories to store train and test set of images\n",
    "os.makedirs(train_path,exist_ok=True)\n",
    "os.makedirs(test_path,exist_ok=True)"
   ]
  },
  {
   "cell_type": "code",
   "execution_count": 9,
   "metadata": {},
   "outputs": [
    {
     "name": "stdout",
     "output_type": "stream",
     "text": [
      "Dataset split into Train and Test : Successful!!\n"
     ]
    }
   ],
   "source": [
    "#Train and Test split procedure\n",
    "#get images from each class of the dataset, split them into train and test sets\n",
    "for class_name in os.listdir(dataset_path):\n",
    "    class_dir=os.path.join(dataset_path,class_name)\n",
    "\n",
    "    #check if it is a valid directory\n",
    "    if os.path.isdir(class_dir):\n",
    "        #Get all the image files into a list\n",
    "        files=os.listdir(class_dir)\n",
    "\n",
    "        #Now create directories for the class in train and test directories\n",
    "        #For Train \n",
    "        os.makedirs(os.path.join(train_path,class_name),exist_ok=True)\n",
    "        #For Test\n",
    "        os.makedirs(os.path.join(test_path,class_name),exist_ok=True)\n",
    "\n",
    "\n",
    "        #Now splitting the files into train and test sets (random split)\n",
    "        train_files,test_files=train_test_split(files,test_size=0.2,random_state=42)\n",
    "\n",
    "        #Copying train images into train folder\n",
    "        for file in train_files:\n",
    "            #copying image from source to destination using shutil.copy()\n",
    "            src=os.path.join(class_dir,file)\n",
    "            dst=os.path.join(train_path,class_name,file)\n",
    "            try:\n",
    "                shutil.copy(src,dst)\n",
    "            except Exception as e:\n",
    "                print(f\"Error copying {src} to {dst} : {e}\")\n",
    "\n",
    "        #copying test image into test folder\n",
    "        for file in test_files:\n",
    "            #copying image from source to destination using shutil.copy()\n",
    "            src=os.path.join(class_dir,file)\n",
    "            dst=os.path.join(test_path,class_name,file)\n",
    "            try:\n",
    "                shutil.copy(src,dst)\n",
    "            except Exception as e:\n",
    "                print(f\"Error copying {src} to {dst} : {e}\")\n",
    "\n",
    "print(\"Dataset split into Train and Test : Successful!!\")\n"
   ]
  },
  {
   "cell_type": "code",
   "execution_count": null,
   "metadata": {},
   "outputs": [],
   "source": []
  }
 ],
 "metadata": {
  "kernelspec": {
   "display_name": "Python 3",
   "language": "python",
   "name": "python3"
  },
  "language_info": {
   "codemirror_mode": {
    "name": "ipython",
    "version": 3
   },
   "file_extension": ".py",
   "mimetype": "text/x-python",
   "name": "python",
   "nbconvert_exporter": "python",
   "pygments_lexer": "ipython3",
   "version": "3.12.3"
  }
 },
 "nbformat": 4,
 "nbformat_minor": 2
}
